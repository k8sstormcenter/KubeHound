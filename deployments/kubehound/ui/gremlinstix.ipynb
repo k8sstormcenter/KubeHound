{
  "cells": [
    {
      "cell_type": "code",
      "execution_count": null,
      "id": "nGXMxd9yZdvq",
      "metadata": {
        "id": "nGXMxd9yZdvq"
      },
      "outputs": [],
      "source": [
        "%%gremlin -d class -g critical -le 50 -p inv,oute\n",
        "\n",
        "kh.containers()\n",
        "    .has(\"runID\", graph.variables().get('runID_yourid').get().trim())\n",
        "    .not(has(\"namespace\",\"kube-system\"))\n",
        "    .repeat(\n",
        "      outE().inV().simplePath()   // Building the path from one vertex to another\n",
        "    ).until(\n",
        "        has(label, \"Node\")        // Stop when meeting a critical asset\n",
        "        .or().loops().is(1)      // Stop after X iteration\n",
        "    ).has(label, \"Node\")          // Keep only path ending with a critical asset\n",
        "    .path().by(elementMap())\n",
        "\n",
        "\n",
        "kh.containers()\n",
        " .has(\"runID\", graph.variables().get('runID_yourid').get().trim())\n",
        "  .has(\"app\",graph.variables().get('containerEscape_vulnApp_yourid').get().trim())\n",
        "   .repeat( outE().inV().simplePath() // Building the path from one vertex to another\n",
        "           ).until( has(label, \"Node\") // Stop when meeting a critical asset\n",
        "    .or().loops().is(1) // Stop after X iteration\n",
        "  ).has(label, \"Node\") // Keep only path ending with a critical asset\n",
        "  .path().by(elementMap())\n",
        "  .limit(1000)"
      ]
    },
    {
      "cell_type": "code",
      "execution_count": 2,
      "id": "UjB1B6FbHNDzHMssdHBOLg5b",
      "metadata": {
        "colab": {
          "base_uri": "https://localhost:8080/"
        },
        "executionInfo": {
          "elapsed": 635,
          "status": "ok",
          "timestamp": 1729201094362,
          "user": {
            "displayName": "",
            "userId": ""
          },
          "user_tz": -120
        },
        "id": "UjB1B6FbHNDzHMssdHBOLg5b",
        "outputId": "16e42cb7-9271-45aa-e20e-ba0f504db182",
        "tags": []
      },
      "outputs": [
        {
          "name": "stdout",
          "output_type": "stream",
          "text": [
            "{\"type\": \"indicator\", \"spec_version\": \"2.1\", \"id\": \"indicator--5a649969-1c6c-4ae1-88d3-573f2d373b0c\", \"created\": \"2024-10-17T21:38:14.121637Z\", \"modified\": \"2024-10-17T21:38:14.121637Z\", \"name\": \"Container Escape (SYS_PTRACE)\", \"description\": \"Detects container escape from pod vizier-pem-h6lk9 in namespace pl using SYS_PTRACE\", \"pattern\": \"[x-kubernetes-pod:name = 'vizier-pem-h6lk9' AND x-kubernetes-pod:namespace = 'pl' AND x-user-account:permissions = 'SYS_PTRACE' AND x-kubernetes-node:name = 'gke-k8s-caas-0009-be-default-node-poo-f38ee065-xqvf' AND x-tetragon-log:event = 'namespace_change' AND x-tetragon-log:details = 'Detected change in Linux namespaces']\", \"pattern_type\": \"stix\", \"pattern_version\": \"2.1\", \"valid_from\": \"2023-10-27T12:34:56Z\"}\n",
            "{\"type\": \"indicator\", \"spec_version\": \"2.1\", \"id\": \"indicator--f16c67d8-df6b-428e-83d2-ccaec01d2e43\", \"created\": \"2024-10-17T21:38:14.151967Z\", \"modified\": \"2024-10-17T21:38:14.151967Z\", \"name\": \"Container Escape (NSENTER)\", \"description\": \"Detects container escape from pod vizier-pem-h6lk9 in namespace pl using NSENTER\", \"pattern\": \"[x-kubernetes-pod:name = 'vizier-pem-h6lk9' AND x-kubernetes-pod:namespace = 'pl' AND x-kubernetes-pod:privileged = true AND x-kubernetes-pod:host_pid = true AND x-kubernetes-node:name = 'gke-k8s-caas-0009-be-default-node-poo-f38ee065-xqvf' AND x-tetragon-log:event = 'namespace_change' AND x-tetragon-log:details = 'Detected change in Linux namespaces']\", \"pattern_type\": \"stix\", \"pattern_version\": \"2.1\", \"valid_from\": \"2023-10-27T12:34:56Z\"}\n",
            "{\"type\": \"indicator\", \"spec_version\": \"2.1\", \"id\": \"indicator--c2fd8bb6-e0da-465a-9fe3-7188f49baa3b\", \"created\": \"2024-10-17T21:38:14.161467Z\", \"modified\": \"2024-10-17T21:38:14.161467Z\", \"name\": \"Container Escape (GENERIC)\", \"description\": \"Detects container escape from pod vizier-pem-h6lk9 in namespace pl using GENERIC\", \"pattern\": \"[x-kubernetes-pod:name = 'vizier-pem-h6lk9' AND x-kubernetes-pod:namespace = 'pl' AND x-tetragon-log:event = 'namespace_change' AND x-tetragon-log:details = 'Detected change in Linux namespaces']\", \"pattern_type\": \"stix\", \"pattern_version\": \"2.1\", \"valid_from\": \"2023-10-27T12:34:56Z\"}\n"
          ]
        }
      ],
      "source": [
        "from stix2 import CustomObject, properties\n",
        "\n",
        "@CustomObject('x-kubernetes-pod', [\n",
        "    ('name', properties.StringProperty(required=True)),\n",
        "    ('namespace', properties.StringProperty(required=True)),\n",
        "])\n",
        "class KubernetesPod(object):\n",
        "    pass\n",
        "\n",
        "@CustomObject('x-kubernetes-node', [\n",
        "    ('name', properties.StringProperty(required=True)),\n",
        "])\n",
        "class KubernetesNode(object):\n",
        "    pass\n",
        "\n",
        "@CustomObject('x-user-account', [\n",
        "    ('user_id', properties.StringProperty(required=True)),\n",
        "    ('permissions', properties.StringProperty(required=True)),\n",
        "])\n",
        "class UserAccount(object):\n",
        "    pass\n",
        "\n",
        "\n",
        "@CustomObject('x-tetragon-log', [\n",
        "    ('event', properties.StringProperty(required=True)),\n",
        "    ('details', properties.StringProperty(required=True)),\n",
        "])\n",
        "class TetragonLog(object):\n",
        "    pass\n",
        "\n",
        "import stix2\n",
        "import uuid\n",
        "\n",
        "def create_container_escape_indicator(path, tetragon_log, escape_type=\"GENERIC\"):\n",
        "    \"\"\"\n",
        "    Creates a STIX 2.1 Indicator object for container escape detection.\n",
        "\n",
        "    Args:\n",
        "        path (list): A list of dictionaries representing the path from the container to the node.\n",
        "        tetragon_log (dict): A dictionary representing the Tetragon log evidence.\n",
        "        escape_type (str, optional): The type of container escape. Defaults to \"GENERIC\".\n",
        "\n",
        "    Returns:\n",
        "        stix2.Indicator: The STIX 2.1 Indicator object.\n",
        "    \"\"\"\n",
        "\n",
        "    container_data = path[0]\n",
        "    node_data = path[1]\n",
        "\n",
        "    # Extract relevant data from the path\n",
        "    pod_name = container_data['pod']\n",
        "    namespace = container_data['namespace']\n",
        "    node_name = node_data['name']\n",
        "\n",
        "    # Create STIX objects\n",
        "    pod = KubernetesPod(\n",
        "        id=f\"x-kubernetes-pod--{uuid.uuid4()}\",\n",
        "        name=pod_name,\n",
        "        namespace=namespace\n",
        "    )\n",
        "\n",
        "    node = KubernetesNode(\n",
        "        id=f\"x-kubernetes-node--{uuid.uuid4()}\",\n",
        "        name=node_name\n",
        "    )\n",
        "\n",
        "    user_account = UserAccount(\n",
        "        id=f\"x-user-account--{uuid.uuid4()}\",\n",
        "        user_id=\"some-user-id\",\n",
        "        permissions=\"SYS_PTRACE\"\n",
        "    )\n",
        "\n",
        "    tetragon_log_obj = TetragonLog(\n",
        "        id=f\"x-tetragon-log--{uuid.uuid4()}\",\n",
        "        event=tetragon_log['event'],\n",
        "        details=tetragon_log['details']\n",
        "    )\n",
        "\n",
        "    # Construct the STIX pattern based on escape type\n",
        "    if escape_type == \"SYS_PTRACE\":\n",
        "        pattern = f\"[x-kubernetes-pod:name = '{pod_name}' AND x-kubernetes-pod:namespace = '{namespace}' AND x-user-account:permissions = 'SYS_PTRACE' AND x-kubernetes-node:name = '{node_name}' AND x-tetragon-log:event = '{tetragon_log['event']}' AND x-tetragon-log:details = '{tetragon_log['details']}']\"\n",
        "    elif escape_type == \"NSENTER\":\n",
        "        pattern = f\"[x-kubernetes-pod:name = '{pod_name}' AND x-kubernetes-pod:namespace = '{namespace}' AND x-kubernetes-pod:privileged = true AND x-kubernetes-pod:host_pid = true AND x-kubernetes-node:name = '{node_name}' AND x-tetragon-log:event = '{tetragon_log['event']}' AND x-tetragon-log:details = '{tetragon_log['details']}']\"\n",
        "    else:  # Generic escape pattern\n",
        "        pattern = f\"[x-kubernetes-pod:name = '{pod_name}' AND x-kubernetes-pod:namespace = '{namespace}' AND x-tetragon-log:event = '{tetragon_log['event']}' AND x-tetragon-log:details = '{tetragon_log['details']}']\"\n",
        "\n",
        "    # Create the STIX Indicator object\n",
        "    indicator = stix2.Indicator(\n",
        "        name=f\"Container Escape ({escape_type})\",\n",
        "        description=f\"Detects container escape from pod {pod_name} in namespace {namespace} using {escape_type}\",\n",
        "        pattern=pattern,\n",
        "        pattern_type=\"stix\",\n",
        "        valid_from=\"2023-10-27T12:34:56Z\"  # Update with the appropriate validity period\n",
        "    )\n",
        "\n",
        "    return indicator\n",
        "\n",
        "# Example usage:\n",
        "path = [\n",
        "    {\n",
        "        'runAsUser': 0, 'capabilities': '[SYS_PTRACE, SYS_ADMIN]', 'ports': '[]', 'class': 'Container',\n",
        "        'cluster': 'gke_adls-152q5v4ovh2urxs17pnkwnlwl_europe-west1_k8s-caas-0009-beta', 'runID': '01ja8e863mqb3echwy4w4cer83',\n",
        "        'storeID': '670e98db9ceaeac8428ae6d2', 'app': 'pl-monitoring', 'team': '', 'service': '', 'name': 'pem',\n",
        "        'namespace': 'pl', 'isNamespaced': True, 'compromised': 0, 'node': 'gke-k8s-caas-0009-be-default-node-po-f38ee065-xqvf',\n",
        "        'image': 'gcr.io/pixie-oss/pixie-prod/vizier-pem_image:0.14.11', 'pod': 'vizier-pem-h6lk9', 'hostNetwork': True,\n",
        "        'hostPid': True, 'hostIpc': False, 'privesc': False, 'privileged': True\n",
        "    },\n",
        "    {\n",
        "        'class': 'Node', 'cluster': 'gke_adls-152q5v4ovh2urxs17pnkwnlwl_europe-west1_k8s-caas-0009-beta', 'runID': '01ja8e863mqb3echwy4w4cer83',\n",
        "        'storeID': '670e98d99ceaeac8428ae491', 'app': '', 'team': '', 'service': '', 'name': 'gke-k8s-caas-0009-be-default-node-poo-f38ee065-xqvf',\n",
        "        'namespace': '', 'critical': False, 'isNamespaced': False, 'compromised': 0\n",
        "    }\n",
        "]\n",
        "\n",
        "tetragon_log = {\n",
        "    'event': 'namespace_change',\n",
        "    'details': 'Detected change in Linux namespaces'\n",
        "}\n",
        "\n",
        "sys_ptrace_indicator = create_container_escape_indicator(path, tetragon_log, escape_type=\"SYS_PTRACE\")\n",
        "nsenter_indicator = create_container_escape_indicator(path, tetragon_log, escape_type=\"NSENTER\")\n",
        "generic_indicator = create_container_escape_indicator(path, tetragon_log)\n",
        "\n",
        "print(sys_ptrace_indicator)\n",
        "print(nsenter_indicator)\n",
        "print(generic_indicator)"
      ]
    },
    {
      "cell_type": "markdown",
      "id": "bODsSM7beGYh",
      "metadata": {
        "id": "bODsSM7beGYh"
      },
      "source": [
        "kh.containers()\n",
        "    .has(\"runID\", graph.variables().get('runID_yourid').get().trim())\n",
        "    .has(\"app\",graph.variables().get('containerEscape_vulnApp_yourid').get().trim())\n",
        "    .repeat(\n",
        "      outE().inV().simplePath()   // Building the path from one vertex to another\n",
        "    ).until(\n",
        "        has(label, \"Node\")        // Stop when meeting a critical asset\n",
        "        .or().loops().is(1)      // Stop after X iteration\n",
        "    ).has(label, \"Node\")          // Keep only path ending with a critical asset\n",
        "    .path().by(elementMap())\n",
        "    .limit(1000)"
      ]
    },
    {
      "cell_type": "markdown",
      "id": "EVriMa6VZb6Z",
      "metadata": {
        "id": "EVriMa6VZb6Z"
      },
      "source": []
    },
    {
      "cell_type": "code",
      "execution_count": 1,
      "id": "_7pZvh_6LLJZ",
      "metadata": {
        "executionInfo": {
          "elapsed": 728,
          "status": "ok",
          "timestamp": 1729201088979,
          "user": {
            "displayName": "",
            "userId": ""
          },
          "user_tz": -120
        },
        "id": "_7pZvh_6LLJZ"
      },
      "outputs": [],
      "source": [
        "pods = [\n",
        "{'runAsUser': [10000], 'capabilities': ['[]'], 'ports': ['[8080]'], 'class': ['Container'], 'cluster': ['gke_adls-152q5v4ovh2urxs17pnkwnlwl_europe-west1_k8s-caas-0009-beta'], 'runID': ['01ja8e863mqb3echwy4w4cer83'], 'storeID': ['670e98da9ceaeac8428ae4df'], 'app': ['harbor'], 'team': [''], 'service': [''], 'name': ['jobservice'], 'namespace': ['harbor'], 'isNamespaced': [True], 'compromised': [0], 'node': ['gke-k8s-caas-0009-be-default-node-poo-f38ee065-p3pi'], 'image': ['goharbor/harbor-jobservice:v2.11.1'], 'pod': ['harbor-jobservice-6c667d97db-qxgzk'], 'hostNetwork': [False], 'hostPid': [False], 'hostIpc': [False], 'privesc': [False], 'privileged': [False]},\n",
        "{'runAsUser': [0], 'command': ['[/gke-metadata-server, --logtostderr, --token-exchange-endpoint=https://securetoken.googleapis.com/v1/identitybindingtoken, --workload-pool=adls-152q5v4ovh2urxs17pnkwnlwl.svc.id.goog, --alts-service-suffixes-using-node-identity=storage.googleapis.com,bigtable.googleapis.com,bigtable2.googleapis.com,bigtablerls.googleapis.com,spanner.googleapis.com,spanner2.googleapis.com,spanner-rls.googleapis.com,grpclb.directpath.google.internal,grpclb-dualstack.directpath.google.internal,staging-wrenchworks.sandbox.googleapis.com,preprod-spanner.sandbox.googleapis.com,wrenchworks-loadtest.googleapis.com,wrenchworks-nonprod.googleapis.com, --identity-provider=https://container.googleapis.com/v1/projects/adls-152q5v4ovh2urxs17pnkwnlwl/locations/europe-west1/clusters/k8s-caas-0009-beta, --passthrough-ksa-list=anthos-identity-service:gke-oidc-envoy-sa,anthos-identity-service:gke-oidc-service-sa,gke-managed-dpv2-observability:hubble-relay,kube-system:antrea-controller,kube-system:container-watcher-pod-reader,kube-system:coredns,kube-system:egress-nat-controller,kube-system:event-exporter-sa,kube-system:fluentd-gcp-scaler,kube-system:gke-metrics-agent,kube-system:gke-spiffe-node-agent,kube-system:heapster,kube-system:konnectivity-agent,kube-system:kube-dns,kube-system:maintenance-handler,kube-system:metadata-agent,kube-system:network-metering-agent,kube-system:node-local-dns,kube-system:pkgextract-service,kube-system:pkgextract-cleanup-service,kube-system:securityprofile-controller,istio-system:istio-ingressgateway-service-account,istio-system:cluster-local-gateway-service-account,csm:csm-sync-agent,knative-serving:controller,kube-system:pdcsi-node-sa,kube-system:gcsfusecsi-node-sa,gmp-system:collector,gke-gmp-system:collector,gke-managed-cim:kube-state-metrics, --attributes=cluster-name=k8s-caas-0009-beta,cluster-uid=28d64db24b1d4dfeb55612f28174511c49836b27d68c4bfc923d7423ee4dca9d,cluster-location=europe-west1, --cluster-uid=28d64db24b1d4dfeb55612f28174511c49836b27d68c4bfc923d7423ee4dca9d, --sts-endpoint=https://sts.googleapis.com, --token-exchange-mode=sts, --cloud-monitoring-endpoint=monitoring.googleapis.com:443, --iam-cred-service-endpoint=https://iamcredentials.googleapis.com, --cluster-project-number=601855464707, --cluster-location=europe-west1, --cluster-name=k8s-caas-0009-beta, --component-version=0.4.302, --ksa-cache-mode=watchchecker, --kcp-allow-watch-checker=true, --csi-socket=/csi/csi.sock, --volumes-db=/var/run/gkemds.gke.io/csi/volumes.boltdb]'], 'capabilities': ['[]'], 'ports': ['[987, 988, 989]'], 'class': ['Container'], 'cluster': ['gke_adls-152q5v4ovh2urxs17pnkwnlwl_europe-west1_k8s-caas-0009-beta'], 'runID': ['01ja8e863mqb3echwy4w4cer83'], 'storeID': ['670e98da9ceaeac8428ae571'], 'app': [''], 'team': [''], 'service': [''], 'name': ['gke-metadata-server'], 'namespace': ['kube-system'], 'isNamespaced': [True], 'compromised': [0], 'node': ['gke-k8s-caas-0009-be-default-node-poo-f38ee065-p3pi'], 'image': ['gke.gcr.io/gke-metadata-server:gke_metadata_server_20240702.00_p0@sha256:aea9cc887c91b9a05e5bb4bb604180772594a01f0828bbfacf30c77562ac7205'], 'pod': ['gke-metadata-server-pz4zp'], 'hostNetwork': [True], 'hostPid': [False], 'hostIpc': [False], 'privesc': [False], 'privileged': [True]},\n",
        "]"
      ]
    }
  ],
  "metadata": {
    "colab": {
      "name": "gremlinstix",
      "provenance": []
    },
    "kernelspec": {
      "display_name": "Python 3",
      "language": "python",
      "name": "python3"
    },
    "language_info": {
      "codemirror_mode": {
        "name": "ipython",
        "version": 3
      },
      "file_extension": ".py",
      "mimetype": "text/x-python",
      "name": "python",
      "nbconvert_exporter": "python",
      "pygments_lexer": "ipython3",
      "version": "3.10.10"
    }
  },
  "nbformat": 4,
  "nbformat_minor": 5
}
